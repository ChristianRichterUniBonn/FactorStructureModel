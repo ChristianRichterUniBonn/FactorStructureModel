{
 "cells": [
  {
   "cell_type": "markdown",
   "metadata": {},
   "source": [
    "## Estimation of the effects following Aakvik et al. (2005)"
   ]
  },
  {
   "cell_type": "code",
   "execution_count": 1,
   "metadata": {},
   "outputs": [],
   "source": [
    "%reload_ext cython"
   ]
  },
  {
   "cell_type": "markdown",
   "metadata": {},
   "source": [
    "### First some packages need to be imported"
   ]
  },
  {
   "cell_type": "code",
   "execution_count": 2,
   "metadata": {},
   "outputs": [
    {
     "name": "stdout",
     "output_type": "stream",
     "text": [
      "17839.86681768303\n",
      "28.632741451263428\n"
     ]
    },
    {
     "name": "stderr",
     "output_type": "stream",
     "text": [
      "/home/christian/anaconda3/lib/python3.7/site-packages/pybobyqa/solver.py:774: RuntimeWarning: x0 above upper bound, adjusting\n",
      "  warnings.warn(\"x0 above upper bound, adjusting\", RuntimeWarning)\n"
     ]
    },
    {
     "name": "stdout",
     "output_type": "stream",
     "text": [
      "****** Py-BOBYQA Results ******\n",
      "Solution xmin = [0.70443884 0.71632578 0.71588429 1.01436051 0.95059334]\n",
      "Objective value f(xmin) = 16323.4077\n",
      "Needed 85 objective evaluations (at 85 points)\n",
      "Approximate gradient = [-7.57694829e-05  1.00917344e-04 -4.23307732e-05 -6.11028365e-05\n",
      " -6.41631294e-05]\n",
      "Approximate Hessian = [[ 25922.77259987  -6168.90522528  -3898.97858209 -12088.88721011\n",
      "    1229.55783229]\n",
      " [ -6168.90522528  49271.7336352   13076.36927422   -517.44787323\n",
      "   -2222.18742871]\n",
      " [ -3898.97858209  13076.36927422  15197.48653618   8006.23062428\n",
      "    9072.84515531]\n",
      " [-12088.88721011   -517.44787323   8006.23062428   3216.0109774\n",
      "    3426.30849068]\n",
      " [  1229.55783229  -2222.18742871   9072.84515531   3426.30849068\n",
      "    3167.98438818]]\n",
      "Exit flag = 0\n",
      "Success: rho has reached rhoend\n",
      "******************************\n",
      "\n",
      "2174.9519739151\n"
     ]
    }
   ],
   "source": [
    "%%cython\n",
    "import numpy as np\n",
    "import time\n",
    "import scipy\n",
    "from scipy import integrate\n",
    "from scipy import stats\n",
    "from numpy import arange\n",
    "from scipy import optimize\n",
    "import pandas as pd\n",
    "import pybobyqa\n",
    "np.random.seed(11813242)\n",
    "  "
   ]
  },
  {
   "cell_type": "code",
   "execution_count": null,
   "metadata": {},
   "outputs": [],
   "source": [
    "#define probabilities needed to calculate ML function\n",
    "np.random.seed(11813242)\n",
    "def Pr_Y(X,beta0,alpha0,beta1,alpha1,x,D,Y ):\n",
    "    if D == 1 and Y == 1:\n",
    "        a = scipy.stats.norm.cdf(beta0*X+alpha0*x,0,1)\n",
    "    elif D == 1 and Y == 0:\n",
    "        a = 1 - scipy.stats.norm.cdf(beta0*X+alpha0*x,0,1)\n",
    "    elif D == 0 and Y == 1:\n",
    "        a = scipy.stats.norm.cdf(beta1*X + alpha1*x,0,1)\n",
    "    else:\n",
    "        a = 1 - scipy.stats.norm.cdf(beta1*X + alpha1*x,0,1)\n",
    "    return a\n",
    "#only calcualte the probability for a limited range in order to use the gaussian quadrature for the integration as Aakvik et al. does\n",
    "def Pr_Y_lim(X,beta0,alpha0,beta1,alpha1,x,D,Y):\n",
    "    ranges = [x<-10,x>10]\n",
    "    values = [0,0,Pr_Y(X,beta0,alpha0,beta1,alpha1,x,D,Y)]\n",
    "    return np.piecewise(x,ranges,values)\n",
    "\n",
    "def  Pr_D(Z,beta_D, x, D):\n",
    "    if D == 1:\n",
    "        b = scipy.stats.norm.cdf(beta_D*Z+x,0,1)\n",
    "    else:\n",
    "        b = 1 - scipy.stats.norm.cdf(beta_D*Z+x,0,1)\n",
    "    return b\n",
    "\n",
    "def Pr_D_lim(Z,beta_D, x, D):\n",
    "    ranges = [x<-10,x>10]\n",
    "    values = [0,0,Pr_D(Z,beta_D, x, D )]\n",
    "    return np.piecewise(x,ranges,values)\n",
    "\n",
    "    \n",
    "def alltogether(Z,X, beta_D,beta0,alpha0,alpha1,beta1,x,D,Y):\n",
    "    a = Pr_D(Z,beta_D,x,D)\n",
    "    b = Pr_Y(X,beta0,alpha0,beta1,alpha1,x,D,Y)\n",
    "    c = scipy.stats.norm.pdf(x)\n",
    "    return a*b*c\n",
    "    #return a*b\n",
    "#define maximum likelihood function\n",
    "def trial(Z,X,params,D,Y):\n",
    "    beta_D,beta0, beta1, alpha0,alpha1, = params\n",
    "    a = scipy.integrate.fixed_quad(lambda x: alltogether(Z,X,beta_D,beta0,alpha0,alpha1,beta1,x,D,Y), -10,10)[0]\n",
    "    return -np.log(a)\n",
    "#def trial_2(Z, X,params, D,Y):\n",
    "#    beta_D,beta0,alpha0,alpha1, beta1 = params\n",
    "#    a = scipy.integrate.fixed_quad(lambda x: alltogether_2(Z,X,beta_D,beta0,alpha0,alpha1,beta1,x,D,Y),-10,10)[0]\n",
    "#    return -np.log(a)\n",
    "\n",
    "\n",
    "\n"
   ]
  },
  {
   "cell_type": "code",
   "execution_count": null,
   "metadata": {},
   "outputs": [],
   "source": [
    "#simulation of the model with altered structure according to Aakvik et al. \n",
    "n = 50000\n",
    "mean = [0,0,0]\n",
    "cov = [[1,0,0],[0,1,0],[0,0,1]]\n",
    "obs = np.random.multivariate_normal(mean,cov,n)\n",
    "Z = obs[:,0]\n",
    "X = obs[:,1]\n",
    "theta_2 = obs[:,2]\n",
    "unobs = np.random.multivariate_normal(mean,cov,n)\n",
    "U_D = unobs[:,0]\n",
    "U_1 = unobs[:,1]\n",
    "U_0 = unobs[:,2]\n",
    "beta_D = 1\n",
    "beta0 = 1\n",
    "beta1 = 1\n",
    "alpha0 = 1\n",
    "alpha1 = 1\n",
    "D_star = Z*beta_D + theta_2 - U_D\n",
    "df = pd.DataFrame(data=D_star, columns=['D_star'])\n",
    "df['D'] = 0\n",
    "df\n",
    "df.loc[df['D_star'] > 0, 'D'] = 1\n",
    "df[ 'X'] = X\n",
    "df['Z'] = Z\n",
    "df['theta_2'] = theta_2\n",
    "df['U_D'] = U_D\n",
    "df['U_1'] = U_1\n",
    "df['U_0'] = U_0\n",
    "df['Y1_star'] = X*beta1 + alpha1*theta_2 - U_1\n",
    "df['Y1'] = 0\n",
    "df.loc[df['Y1_star'] > 0,'Y1'] = 1\n",
    "df['Y0_star'] = X*beta0 + alpha0*theta_2 - U_0\n",
    "df['Y0'] = 0\n",
    "df.loc[df['Y0_star'] > 0,'Y0'] = 1\n",
    "df['Y'] = df['Y1']\n",
    "df.loc[df['D'] == 0, 'Y'] = df['Y0']\n",
    "D = np.asarray(df.D)\n",
    "Y = np.asarray(df.Y)\n",
    "array = (Z,X,D,Y)\n"
   ]
  },
  {
   "cell_type": "code",
   "execution_count": null,
   "metadata": {},
   "outputs": [],
   "source": [
    "#calculate object to be optimized\n",
    "array_T = np.transpose(array)\n",
    "range_target = np.arange(0,n,1)\n",
    "def target(params):\n",
    "    obj = []\n",
    "    for x in range_target:\n",
    "        t = trial(array_T[x,0],array_T[x,1],params,array_T[x,2],array_T[x,3])\n",
    "        obj.append(t)\n",
    "    return np.sum(obj)"
   ]
  },
  {
   "cell_type": "code",
   "execution_count": null,
   "metadata": {},
   "outputs": [],
   "source": [
    "#test various solution algorithms \n",
    "from scipy.optimize import Bounds\n",
    "#bnds = Bounds([0,0,0,0,0], [4,4,4,4,4])\n",
    "start = time.time()\n",
    "x0 = np.array([1,1,0.99,1,1])\n",
    "bnds = Bounds([-1,-1,-1,-1,-1],[4,4,4,4,4])\n",
    "lower = np.array([-4,-4,-4,-4,-4])\n",
    "upper = np.array([1,4,4,4,4])\n",
    "#cons = scipy.optimize.LinearConstraint(([beta_D],[beta0],[alpha0], [alpha1], [beta1]),(1,1,1,1,1),(1,1,1,1,1))\n",
    "rranges = (slice(-2, 2, 0.5), slice(-2, 2, 0.5),slice(-2, 2, 1), slice(-2, 2, 1),slice(-2, 2, 1))\n",
    "print(pybobyqa.solve(target, x0, bounds=(lower, upper),maxfun = 8000))\n",
    "#a = scipy.optimize.minimize(target, x0, method='SLSQP',bounds=bnds,options={'maxiter':2000})\n",
    "#b = scipy.optimize.least_squares(target,x0,bounds=(lower,upper))\n",
    "#c = scipy.optimize.brute(target,rranges)\n",
    "#d = scipy.optimize.basinhopping(target,x0)\n",
    "#print(a)\n",
    "#print(b)\n",
    "#print(c)\n",
    "end = time.time()\n",
    "print(end - start)"
   ]
  },
  {
   "cell_type": "code",
   "execution_count": 6,
   "metadata": {},
   "outputs": [
    {
     "data": {
      "text/plain": [
       "array([0.])"
      ]
     },
     "execution_count": 6,
     "metadata": {},
     "output_type": "execute_result"
    }
   ],
   "source": [
    "#define ATE  from  Aakvik et al. as example\n",
    "import scipy\n",
    "from scipy import integrate\n",
    "from scipy import stats\n",
    "def ATE(X):\n",
    "    beta1 =1\n",
    "    beta0 =1\n",
    "    alpha0 =1\n",
    "    alpha1=1\n",
    "    a = scipy.integrate.fixed_quad(lambda x: [scipy.stats.norm.cdf(beta1*X + alpha0*x,0,1) - scipy.stats.norm.cdf(beta0*X + alpha0*x,0,1)]*scipy.stats.norm.pdf(x),-10,10)[0]\n",
    "    return a\n"
   ]
  }
 ],
 "metadata": {
  "kernelspec": {
   "display_name": "Python 3",
   "language": "python",
   "name": "python3"
  },
  "language_info": {
   "codemirror_mode": {
    "name": "ipython",
    "version": 3
   },
   "file_extension": ".py",
   "mimetype": "text/x-python",
   "name": "python",
   "nbconvert_exporter": "python",
   "pygments_lexer": "ipython3",
   "version": "3.7.3"
  }
 },
 "nbformat": 4,
 "nbformat_minor": 2
}
