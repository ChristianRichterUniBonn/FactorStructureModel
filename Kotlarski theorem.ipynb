{
 "cells": [
  {
   "cell_type": "markdown",
   "metadata": {},
   "source": [
    "## Density estimating using the Kotlarski theorem"
   ]
  },
  {
   "cell_type": "markdown",
   "metadata": {},
   "source": [
    "### This notebook describes the procedure for the density estimation using the Kotlarski theorem. In order to understand the steps properly, please either consult the thesis or Li & Vuong (1998)"
   ]
  },
  {
   "cell_type": "code",
   "execution_count": 11,
   "metadata": {},
   "outputs": [],
   "source": [
    "%reload_ext cython"
   ]
  },
  {
   "cell_type": "markdown",
   "metadata": {},
   "source": [
    "### First some packages are imported"
   ]
  },
  {
   "cell_type": "code",
   "execution_count": 17,
   "metadata": {},
   "outputs": [
    {
     "name": "stdout",
     "output_type": "stream",
     "text": [
      "[0.264 0.265 0.266 0.267 0.682 0.683]\n"
     ]
    }
   ],
   "source": [
    "%%cython\n",
    "\n",
    "import numpy as np\n",
    "from numpy.fft import fft\n",
    "import scipy \n",
    "from scipy import fftpack\n",
    "from scipy import integrate\n",
    "from scipy import misc\n",
    "from scipy import stats\n",
    "import math\n",
    "import matplotlib.pyplot as plt\n",
    "\n",
    "n = 800\n",
    "np.random.seed(314711239)\n",
    "#define variables\n",
    "theta_1 = 1.2*np.random.randn(n)\n",
    "theta_2 = 0.7*np.random.randn(n) \n",
    "epsilon_1 = 1.1*np.random.randn(n) \n",
    "epsilon_2 = 1.1*np.random.randn(n) \n",
    "x_rand_1 = theta_1 + epsilon_1\n",
    "y_rand_1 = theta_1 + epsilon_2\n",
    "x_rand_2 = theta_2 + epsilon_1\n",
    "y_rand_2 = theta_2 + epsilon_2\n",
    "((4*(np.std(x_rand_1 - y_rand_1)**5))/3*n)**(1/5)\n",
    "#define functions needed for Kotlarski estimate\n",
    "def emp_charak_dif (df1,df2,t):\n",
    "    value = np.sqrt(1/len(df1)*sum(np.exp((0+1j)*t*(df1 - df2))))\n",
    "    return value\n",
    "def emp_charac_fkt(df1,df2,u1,u2):\n",
    "    value = 1/len(df1)*sum(np.exp(((0+1j)*u1*df1 + (0+1j)*u2*df2)))\n",
    "    return value\n",
    "# Kernels\n",
    "def kernel_tri(z,h):\n",
    "    if 1 - (np.abs(z/h)) > 0:\n",
    "        y = 1 - (np.abs(z/h))\n",
    "    else:\n",
    "        y = 0\n",
    "    y = fft([y])\n",
    "    return y.tolist()[0]\n",
    "def kernel_sin(z,h):\n",
    "    if np.abs(z*h) < 1:\n",
    "        y = 1\n",
    "    else:\n",
    "        y = 0\n",
    "    return y\n",
    "    \n",
    "def integrand_2(t,epsilon,h,df1,df2):\n",
    "    return np.exp(-(0+1j)*t*epsilon)*emp_charak_dif(df1,df2,t)*kernel_sin(t,h)\n",
    "    #return np.exp(-(0+1j)*t*epsilon)*emp_charak_dif(df1,df2,t)\n",
    "def expint2(T,epsilon,h,df1,df2):\n",
    "    a =(1/2*math.pi)*scipy.integrate.quad(integrand_2,-T,T, args=(epsilon,h,df1,df2))[0] \n",
    "    if a < 0:\n",
    "        a = 0\n",
    "    return a\n",
    "    \n",
    "def x_hat(df1,df2,t):\n",
    "    return emp_charac_fkt(df1,df2,t,0)/emp_charak_dif(df1,df2,t)\n",
    "def integrand_X(t,epsilon,h,df1,df2):\n",
    "    return np.exp(-(0+1j)*t*epsilon)*x_hat(df1,df2,t)*kernel_sin(t,h)\n",
    "def expint_X(T,epsilon,h,df1,df2):\n",
    "    a = (1/2*math.pi)*scipy.integrate.quad(integrand_X,-T,T, args=(epsilon,h,df1,df2))[0]\n",
    "    if a < 0:\n",
    "        a = 0\n",
    "    return a\n",
    "# function to chose optimal bandwith in line with Glad et al. (2007)\n",
    "from scipy.optimize import fsolve\n",
    "def function(t):\n",
    "    return np.abs(x_hat(x_rand_1,y_rand_1,t) - (1/np.sqrt(n+1)))\n",
    "array_solve = np.arange(0,50,0.01)\n",
    "sol_ele = []\n",
    "for x in array_solve:\n",
    "    a = 1/fsolve(function,x)\n",
    "    sol_ele.append(a)\n",
    "r = np.unique(np.round(sol_ele,3))\n",
    "r = r[r > 0.2]\n",
    "r = r[r < 0.8]\n",
    "print(r)"
   ]
  },
  {
   "cell_type": "code",
   "execution_count": null,
   "metadata": {},
   "outputs": [],
   "source": [
    "#define variables we want to estimate\n",
    "n = 800\n",
    "np.random.seed(314711239)\n",
    "#define variables\n",
    "theta_1 = 1.2*np.random.randn(n)\n",
    "theta_2 = 0.7*np.random.randn(n) \n",
    "epsilon_1 = 1.1*np.random.randn(n) \n",
    "epsilon_2 = 1.1*np.random.randn(n) \n",
    "x_rand_1 = theta_1 + epsilon_1\n",
    "y_rand_1 = theta_1 + epsilon_2\n",
    "x_rand_2 = theta_2 + epsilon_1\n",
    "y_rand_2 = theta_2 + epsilon_2"
   ]
  },
  {
   "cell_type": "code",
   "execution_count": null,
   "metadata": {},
   "outputs": [],
   "source": [
    "#define functions needed for Kotlarski estimate\n",
    "#empirical characteristic functions\n",
    "def emp_charak_dif (df1,df2,t):\n",
    "    value = np.sqrt(1/len(df1)*sum(np.exp((0+1j)*t*(df1 - df2))))\n",
    "    return value\n",
    "def emp_charac_fkt(df1,df2,u1,u2):\n",
    "    value = 1/len(df1)*sum(np.exp(((0+1j)*u1*df1 + (0+1j)*u2*df2)))\n",
    "    return value\n",
    "# Kernels\n",
    "def kernel_tri(z,h):\n",
    "    if 1 - (np.abs(z/h)) > 0:\n",
    "        y = 1 - (np.abs(z/h))\n",
    "    else:\n",
    "        y = 0\n",
    "    y = fft([y])\n",
    "    return y.tolist()[0]\n",
    "def kernel_sin(z,h):\n",
    "    if np.abs(z*h) < 1:\n",
    "        y = 1\n",
    "    else:\n",
    "        y = 0\n",
    "    return y\n",
    "#calculate integrands and function for x and epsilon    \n",
    "def integrand_2(t,epsilon,h,df1,df2):\n",
    "    return np.exp(-(0+1j)*t*epsilon)*emp_charak_dif(df1,df2,t)*kernel_sin(t,h)\n",
    "#individual density values of epsilon at x\n",
    "def expint2(T,epsilon,h,df1,df2):\n",
    "    a =(1/2*math.pi)*scipy.integrate.quad(integrand_2,-T,T, args=(epsilon,h,df1,df2))[0] \n",
    "    if a < 0:\n",
    "        a = 0\n",
    "    return a\n",
    "    \n",
    "def x_hat(df1,df2,t):\n",
    "    return emp_charac_fkt(df1,df2,t,0)/emp_charak_dif(df1,df2,t)\n",
    "def integrand_X(t,epsilon,h,df1,df2):\n",
    "    return np.exp(-(0+1j)*t*epsilon)*x_hat(df1,df2,t)*kernel_sin(t,h)\n",
    "def expint_X(T,epsilon,h,df1,df2):\n",
    "    a = (1/2*math.pi)*scipy.integrate.quad(integrand_X,-T,T, args=(epsilon,h,df1,df2))[0]\n",
    "    if a < 0:\n",
    "        a = 0\n",
    "    return a"
   ]
  },
  {
   "cell_type": "code",
   "execution_count": null,
   "metadata": {},
   "outputs": [],
   "source": [
    "# function to chose optimal bandwith in line with Glad et al. (2007)\n",
    "from scipy.optimize import fsolve\n",
    "def function(t):\n",
    "    return np.abs(x_hat(x_rand_1,y_rand_1,t) - (1/np.sqrt(n+1)))\n",
    "array_solve = np.arange(0,50,0.01)\n",
    "sol_ele = []\n",
    "for x in array_solve:\n",
    "    a = 1/fsolve(function,x)\n",
    "    sol_ele.append(a)\n",
    "r = np.unique(np.round(sol_ele,3))\n",
    "r = r[r > 0.2]\n",
    "r = r[r < 0.8]\n",
    "print(r)\n",
    "#now calculate the optimal bandwith and use it in the next step"
   ]
  },
  {
   "cell_type": "code",
   "execution_count": null,
   "metadata": {},
   "outputs": [],
   "source": [
    "# calculate pdf of epsilon with MISE minimizing bandwith\n",
    "def pdf_epsi(T,h,df1,df2):\n",
    "    array = np.arange(-5,5,0.05)\n",
    "    y_1 = []\n",
    "    for x in array:\n",
    "        calculus1 = expint2(T,x,h,df1,df2)\n",
    "        y_1.append(calculus1)\n",
    "    y_1_array = np.asarray(y_1)\n",
    "    result_eps = scipy.integrate.quad(lambda epsilon: expint2(T, epsilon,h, df1,df2),-5,5)\n",
    "    y_1_array_std = y_1_array / result_eps[0]\n",
    "    return y_1_array_std\n",
    "    \n",
    "\n",
    "c=pdf_epsi(100,0.265, x_rand_1, y_rand_1)\n",
    "c"
   ]
  },
  {
   "cell_type": "code",
   "execution_count": null,
   "metadata": {},
   "outputs": [],
   "source": []
  },
  {
   "cell_type": "code",
   "execution_count": null,
   "metadata": {},
   "outputs": [],
   "source": [
    "array = np.arange(-5,5,0.05)\n",
    "plt.scatter(array,c)\n",
    "plt.hist(epsilon_1, density=True,alpha=0.5,color='red',bins=20)\n",
    "plt.hist(epsilon_2, density=True,alpha=0.5,color='blue',bins=20)"
   ]
  },
  {
   "cell_type": "code",
   "execution_count": null,
   "metadata": {},
   "outputs": [],
   "source": [
    "#defining density of X\n",
    "def pdf_X(T,h,df1,df2):\n",
    "    array = np.arange(-5,5,0.05)\n",
    "    y_1 = []\n",
    "    for x in array:\n",
    "        calculus1 = expint_X(T,x,h,df1,df2)\n",
    "        y_1.append(calculus1)\n",
    "    y_1_array = np.asarray(y_1)\n",
    "    result_eps = scipy.integrate.quad(lambda epsilon: expint_X(T, epsilon,h, df1,df2),-5,5, limit=25)\n",
    "    y_1_array_std = y_1_array / result_eps[0]\n",
    "    return y_1_array_std\n",
    "    \n",
    "\n",
    "d=pdf_X(np.inf,0.366, x_rand_1, y_rand_1)\n",
    "# spproximating x by a mixture of normals\n",
    "from scipy import stats\n",
    "def mixture(x,mu1,sigma1,mu2,sigma2,w):\n",
    "    return w*scipy.stats.norm.pdf(x,mu1,sigma1) + (1-w)*scipy.stats.norm.pdf(x,mu2,sigma2)\n",
    "    #return scipy.stats.norm.pdf(x,mu1,sigma1)\n",
    "from scipy.optimize import curve_fit\n",
    "popt,pcov = curve_fit(mixture,array,d, bounds=([-np.inf,-np.inf,-np.inf,-np.inf,0],[np.inf,np.inf,np.inf,np.inf,1]), maxfev = 10000)\n",
    "popt"
   ]
  },
  {
   "cell_type": "code",
   "execution_count": null,
   "metadata": {},
   "outputs": [],
   "source": [
    "#plot normal mixture against estimate\n",
    "array = np.arange(-5,5,0.05)\n",
    "plt.scatter(array,d)\n",
    "plt.hist(theta_1, density=True,alpha=0.5,color='red',bins=10)\n",
    "plt.plot(array,mixture(array,popt[0],popt[1],popt[2],popt[3],popt[4]))"
   ]
  }
 ],
 "metadata": {
  "kernelspec": {
   "display_name": "Python 3",
   "language": "python",
   "name": "python3"
  },
  "language_info": {
   "codemirror_mode": {
    "name": "ipython",
    "version": 3
   },
   "file_extension": ".py",
   "mimetype": "text/x-python",
   "name": "python",
   "nbconvert_exporter": "python",
   "pygments_lexer": "ipython3",
   "version": "3.7.3"
  }
 },
 "nbformat": 4,
 "nbformat_minor": 2
}
